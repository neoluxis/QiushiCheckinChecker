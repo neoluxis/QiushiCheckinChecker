{
 "cells": [
  {
   "cell_type": "code",
   "id": "initial_id",
   "metadata": {
    "collapsed": true
   },
   "source": [
    "import pandas as pd\n",
    "import numpy as np"
   ],
   "outputs": [],
   "execution_count": null
  },
  {
   "metadata": {},
   "cell_type": "code",
   "source": [
    "x = pd.read_excel(\"testa.xlsx\", header=None, usecols=[0, 46, 47, 48, 49, 50, 51, 52, 53])\n",
    "# x = pd.read_excel(\"testa.xlsx\", header=None)\n",
    "x"
   ],
   "id": "ae3466fc7f90e219",
   "outputs": [],
   "execution_count": null
  },
  {
   "metadata": {},
   "cell_type": "code",
   "source": "import re",
   "id": "54a92b2d1139eeee",
   "outputs": [],
   "execution_count": null
  },
  {
   "metadata": {},
   "cell_type": "code",
   "source": "\"\"\"正常- 18:59   缺卡(次日05:59);|\t正常- 09:12; 22:00\t|正常- 22:06   缺卡(次日05:59);\t|正常- 20:19; 22:11\t|正常- 17:41; 22:11\t|正常- 22:13   缺卡(次日05:59);\t|正常- 09:43; 22:22\"\"\"",
   "id": "41deb628e42324fe",
   "outputs": [],
   "execution_count": null
  },
  {
   "metadata": {},
   "cell_type": "code",
   "source": [
    "def find_time(text): # 从字符串中找到所有时间\n",
    "    matches = re.findall(r\"\\b\\d{2}:\\d{2}\\b(?![^\\(]*\\))\", text)\n",
    "    return matches\n"
   ],
   "id": "9f1bbb4ecc25cf06",
   "outputs": [],
   "execution_count": null
  },
  {
   "metadata": {},
   "cell_type": "code",
   "source": [
    "personnes = x[4:]\n",
    "personnes"
   ],
   "id": "9d0e21262424fdb8",
   "outputs": [],
   "execution_count": null
  },
  {
   "metadata": {},
   "cell_type": "code",
   "source": "personnes.shape",
   "id": "2dc27bf2c1d47b4a",
   "outputs": [],
   "execution_count": null
  },
  {
   "metadata": {},
   "cell_type": "code",
   "source": [
    "def time_diff(time2, time1, format=True):\n",
    "    h1, m1 = time1.split(\":\")\n",
    "    h2, m2 = time2.split(\":\")\n",
    "    h1, m1, h2, m2 = int(h1), int(m1), int(h2), int(m2)\n",
    "    if h2 < h1:\n",
    "        h2 += 24\n",
    "    mins = (h2 - h1) * 60 + (m2 - m1)\n",
    "    if format:\n",
    "        return f\"{mins // 60}:{mins % 60}\"\n",
    "    return mins\n",
    "\n",
    "\n",
    "time_diff('22:00', '09:12')"
   ],
   "id": "39172a69e72fb733",
   "outputs": [],
   "execution_count": null
  },
  {
   "metadata": {},
   "cell_type": "code",
   "source": [
    "class MyTime:\n",
    "    def __init__(self, time_str):\n",
    "        self.h, self.m = map(int, time_str.split(\":\"))\n",
    "\n",
    "    def __sub__(self, other):\n",
    "        if self.h < other.h:\n",
    "            self.h += 24\n",
    "        mins = (self.h - other.h) * 60 + (self.m - other.m)\n",
    "        formatted = f\"{mins // 60}:{mins % 60}\"\n",
    "        return MyTime(formatted)\n",
    "\n",
    "    def __add__(self, other):\n",
    "        mins = self.h * 60 + self.m + other.h * 60 + other.m\n",
    "        formatted = f\"{mins // 60}:{mins % 60}\"\n",
    "        return MyTime(formatted)\n",
    "\n",
    "    def __str__(self):\n",
    "        return f\"{self.h:02d}:{self.m:02d}\"\n",
    "\n",
    "    def __repr__(self):\n",
    "        return self.__str__()\n",
    "\n",
    "    def __lt__(self, other):\n",
    "        return self.h < other.h or (self.h == other.h and self.m < other.m)\n",
    "\n",
    "    def __gt__(self, other):\n",
    "        return self.h > other.h or (self.h == other.h and self.m > other.m)\n",
    "\n",
    "\n",
    "time2 = MyTime(\"22:00\")\n",
    "time1 = MyTime(\"09:12\")\n",
    "time2 - time1, time1 < time2, time1 > time2, time1 - time2"
   ],
   "id": "bc9eefd8d33917a2",
   "outputs": [],
   "execution_count": null
  },
  {
   "metadata": {},
   "cell_type": "code",
   "source": [
    "def calculate_time_diffs(personnes):\n",
    "    data = {}\n",
    "    for i in range(len(personnes)):\n",
    "        items = personnes.iloc[i]\n",
    "        name = items[0]\n",
    "        times = []\n",
    "        for item in items[1:-1]:\n",
    "            ts = find_time(item)\n",
    "            if len(ts) < 2:\n",
    "                times.append(MyTime('00:00'))\n",
    "                continue\n",
    "            time2 = MyTime(ts[-1])\n",
    "            time1 = MyTime(ts[0])\n",
    "            times.append(time2 - time1)\n",
    "        data[name] = times\n",
    "    return data\n",
    "\n",
    "data = calculate_time_diffs(personnes)"
   ],
   "id": "fd828f181edc4c27",
   "outputs": [],
   "execution_count": null
  },
  {
   "metadata": {},
   "cell_type": "code",
   "source": [
    "def time_check_passed(times, weekdays=3, weekend=8):\n",
    "    weekdays_idx = [0, 3, 4, 5, 6]\n",
    "    weekend_idx = [1, 2]\n",
    "    work_days = 0\n",
    "    weekend_hours = MyTime(\"00:00\")\n",
    "    for idx in weekdays_idx:\n",
    "        if times[idx] > MyTime(\"00:30\"):  # 工作日打卡时间超过30算合格\n",
    "            work_days += 1\n",
    "    for idx in weekend_idx:\n",
    "        weekend_hours = weekend_hours + times[idx]\n",
    "    weekend_mins = weekend * 60\n",
    "    weekend_time = MyTime(f\"{weekend_mins // 60}:{weekend_mins % 60}\")\n",
    "    return work_days >= weekdays and weekend_hours > weekend_time  # 工作日天数、周末工作时长\n",
    "\n"
   ],
   "id": "db27c3f5c3533d64",
   "outputs": [],
   "execution_count": null
  },
  {
   "metadata": {},
   "cell_type": "code",
   "source": [
    "import openpyxl\n",
    "from openpyxl.styles import PatternFill\n",
    "import os"
   ],
   "id": "d08b80121654ca1f",
   "outputs": [],
   "execution_count": null
  },
  {
   "metadata": {},
   "cell_type": "code",
   "source": [
    "def process_xlsx(file_path, x, y):\n",
    "    \"\"\"处理 Excel 文件并标记不符合条件的行\"\"\"\n",
    "    x = pd.read_excel(file_path, header=None, usecols=[0, 46, 47, 48, 49, 50, 51, 52, 53])\n",
    "    personnes = x[4:]\n",
    "    data = calculate_time_diffs(personnes)\n",
    "    wb = openpyxl.load_workbook(file_path)\n",
    "    ws = wb.active\n",
    "    for i in range(len(personnes)):\n",
    "        name = personnes.iloc[i][0]\n",
    "        if not time_check_passed(data[name]):\n",
    "            for j in range(1, 8):\n",
    "                ws.cell(i + 1+4, j).fill = PatternFill(start_color=\"FF0000\", end_color=\"FF0000\", fill_type=\"solid\")\n",
    "    base = os.path.basename(file_path)\n",
    "    wb.save(f\"output_{base}\")\n",
    "    print(f\"处理完成，结果已保存为 output_{base}\")\n",
    "\n",
    "process_xlsx(\"testa.xlsx\", 3, 8)\n"
   ],
   "id": "a72893feedce83b8",
   "outputs": [],
   "execution_count": null
  },
  {
   "metadata": {},
   "cell_type": "code",
   "source": "",
   "id": "cd48be609f7da3da",
   "outputs": [],
   "execution_count": null
  }
 ],
 "metadata": {
  "kernelspec": {
   "display_name": "Python 3",
   "language": "python",
   "name": "python3"
  },
  "language_info": {
   "codemirror_mode": {
    "name": "ipython",
    "version": 2
   },
   "file_extension": ".py",
   "mimetype": "text/x-python",
   "name": "python",
   "nbconvert_exporter": "python",
   "pygments_lexer": "ipython2",
   "version": "2.7.6"
  }
 },
 "nbformat": 4,
 "nbformat_minor": 5
}
